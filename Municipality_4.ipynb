{
 "cells": [
  {
   "cell_type": "markdown",
   "id": "33bbfea6",
   "metadata": {},
   "source": [
    "## Import Packages"
   ]
  },
  {
   "cell_type": "code",
   "execution_count": 1,
   "id": "acfa3ca1",
   "metadata": {},
   "outputs": [],
   "source": [
    "import pandas as pd\n",
    "import numpy as np\n",
    "from sklearn.multioutput import MultiOutputRegressor\n",
    "from sklearn.svm import SVR,LinearSVR\n",
    "from sklearn.metrics import mean_absolute_error\n",
    "import matplotlib.pyplot as plt\n",
    "from statsmodels.tsa.arima.model import ARIMA\n",
    "from statsmodels.tsa.stattools import adfuller\n",
    "from statsmodels.graphics.tsaplots import plot_pacf,plot_acf"
   ]
  },
  {
   "cell_type": "markdown",
   "id": "7173d80c",
   "metadata": {},
   "source": [
    "## Get data "
   ]
  },
  {
   "cell_type": "code",
   "execution_count": 2,
   "id": "477ce629",
   "metadata": {},
   "outputs": [],
   "source": [
    "#Get data from csv\n",
    "data=pd.read_csv(\"municipality_bus_utilization.csv\")"
   ]
  },
  {
   "cell_type": "code",
   "execution_count": 3,
   "id": "638474f3",
   "metadata": {},
   "outputs": [
    {
     "name": "stderr",
     "output_type": "stream",
     "text": [
      "C:\\Users\\TOSHIBA\\AppData\\Local\\Temp/ipykernel_9552/4227106013.py:3: SettingWithCopyWarning: \n",
      "A value is trying to be set on a copy of a slice from a DataFrame.\n",
      "Try using .loc[row_indexer,col_indexer] = value instead\n",
      "\n",
      "See the caveats in the documentation: https://pandas.pydata.org/pandas-docs/stable/user_guide/indexing.html#returning-a-view-versus-a-copy\n",
      "  mun_4[\"timestamp\"] = pd.to_datetime(mun_4.timestamp)\n",
      "C:\\Users\\TOSHIBA\\AppData\\Local\\Temp/ipykernel_9552/4227106013.py:4: SettingWithCopyWarning: \n",
      "A value is trying to be set on a copy of a slice from a DataFrame.\n",
      "Try using .loc[row_indexer,col_indexer] = value instead\n",
      "\n",
      "See the caveats in the documentation: https://pandas.pydata.org/pandas-docs/stable/user_guide/indexing.html#returning-a-view-versus-a-copy\n",
      "  mun_4[\"timestamp\"] = pd.to_datetime(mun_4.timestamp.dt.strftime(\"%Y/%m/%d/%H\"))\n"
     ]
    }
   ],
   "source": [
    "#Slice data wrt municipality\n",
    "mun_4=data.loc[data[\"municipality_id\"]==4]\n",
    "mun_4[\"timestamp\"] = pd.to_datetime(mun_4.timestamp)\n",
    "mun_4[\"timestamp\"] = pd.to_datetime(mun_4.timestamp.dt.strftime(\"%Y/%m/%d/%H\"))"
   ]
  },
  {
   "cell_type": "markdown",
   "id": "1950edb7",
   "metadata": {},
   "source": [
    "## Prepare Data"
   ]
  },
  {
   "cell_type": "code",
   "execution_count": 4,
   "id": "758f848b",
   "metadata": {},
   "outputs": [],
   "source": [
    "#Max take\n",
    "maxes_4=mun_4.groupby(\"timestamp\")[\"usage\"].max()\n",
    "\n",
    "start_date=\"2017-06-04\"\n",
    "\n",
    "daily=pd.date_range(start_date,periods=10,freq=\"H\")+pd.DateOffset(hours=7)\n",
    "date = [pd.Series(daily + pd.DateOffset(days=i)) for i in range(77)]\n",
    "date = pd.concat(date, ignore_index = True)\n",
    "df = pd.DataFrame([], index = date)\n",
    "df[\"usage\"]=np.nan\n",
    "\n",
    "#Assigning\n",
    "df[\"usage\"]=maxes_4\n",
    "#Check Nan value number\n",
    "df[\"usage\"].isna().sum()\n",
    "#check in advance 0 values \n",
    "df[df[\"usage\"]==0].sum()\n",
    "\n",
    "#fill NAs with 0\n",
    "df.usage=df.usage.fillna(0)"
   ]
  },
  {
   "cell_type": "markdown",
   "id": "271803f7",
   "metadata": {},
   "source": [
    "## Missing data handling"
   ]
  },
  {
   "cell_type": "code",
   "execution_count": 5,
   "id": "0417d262",
   "metadata": {},
   "outputs": [
    {
     "data": {
      "text/plain": [
       "usage    0.0\n",
       "dtype: float64"
      ]
     },
     "execution_count": 5,
     "metadata": {},
     "output_type": "execute_result"
    }
   ],
   "source": [
    "#Make autoregressive missing values\n",
    "for i in range(len(df)):\n",
    "    if df.usage.iloc[i]==0:\n",
    "        df.usage.iloc[i]=df.usage.iloc[i-10]\n",
    "\n",
    "#Check missing value fills again they are not nan nor 0\n",
    "df[df[\"usage\"]==0].sum()\n",
    "df[df[\"usage\"]==np.nan].sum()"
   ]
  },
  {
   "cell_type": "markdown",
   "id": "8b6120e7",
   "metadata": {},
   "source": [
    "## Simple Baseline"
   ]
  },
  {
   "cell_type": "code",
   "execution_count": 6,
   "id": "e6667012",
   "metadata": {},
   "outputs": [],
   "source": [
    "#These simple ones may be changed according to prediction horizon\n",
    "#Simple Baseline\n",
    "#For one-week back (70 time-step)\n",
    "df[\"preds_simple_baseline\"]=df[\"usage\"].shift(70)"
   ]
  },
  {
   "cell_type": "markdown",
   "id": "59284449",
   "metadata": {},
   "source": [
    "## Prepare data for SVR"
   ]
  },
  {
   "cell_type": "code",
   "execution_count": 7,
   "id": "cec1660c",
   "metadata": {},
   "outputs": [],
   "source": [
    "#Data preparation and normalization for SVR\n",
    "m=df[\"usage\"].iloc[:630].mean()\n",
    "s=df[\"usage\"].iloc[:630].std()\n",
    "df[\"usage\"]=(df[\"usage\"]-m)/s       \n",
    "\n",
    "lag=70\n",
    "data_range=len(df)-4*lag+1\n",
    "#Data preparation for the first week of the test\n",
    "x=[]\n",
    "y=[]\n",
    "for i in range(data_range): #data_range=491\n",
    "    x.append(df.usage.iloc[i:i+lag])\n",
    "    y.append(df.usage.iloc[i+lag:i+2*lag])\n",
    "X_train=np.array(x)\n",
    "Y_train=np.array(y)\n",
    "\n",
    "X_test1=df.usage.iloc[560:630].values.reshape(1,70)  #Inputs for the model for the first week\n",
    "X_test2=df.usage.iloc[630:700].values.reshape(1,70)  #Inputs for the model for the second week\n"
   ]
  },
  {
   "cell_type": "markdown",
   "id": "aa625ef7",
   "metadata": {},
   "source": [
    "## ARIMA Deployment"
   ]
  },
  {
   "cell_type": "code",
   "execution_count": 8,
   "id": "5f66616f",
   "metadata": {},
   "outputs": [
    {
     "name": "stdout",
     "output_type": "stream",
     "text": [
      "p value is: 1.2634248095543808e-12\n"
     ]
    }
   ],
   "source": [
    "#ARIMA\n",
    "result=adfuller(df[\"usage\"])\n",
    "print(f\"p value is: {result[1]}\")\n",
    "\n",
    "#No difference"
   ]
  },
  {
   "cell_type": "markdown",
   "id": "f3d721a0",
   "metadata": {},
   "source": [
    "## Find lags for ARIMA"
   ]
  },
  {
   "cell_type": "code",
   "execution_count": 9,
   "id": "80cdb945",
   "metadata": {},
   "outputs": [
    {
     "data": {
      "image/png": "[encoded data removed]",
      "text/plain": [
       "<Figure size 432x288 with 1 Axes>"
      ]
     },
     "execution_count": 9,
     "metadata": {},
     "output_type": "execute_result"
    },
    {
     "data": {
      "image/png": "[encoded data removed]",
      "text/plain": [
       "<Figure size 432x288 with 1 Axes>"
      ]
     },
     "metadata": {
      "needs_background": "light"
     },
     "output_type": "display_data"
    }
   ],
   "source": [
    "#ARIMA\n",
    "#find AR values\n",
    "plot_acf(df[\"usage\"].values,lags=30)\n",
    "#Then lag=10, no difference, MA=0 since the others no effect at all\n"
   ]
  },
  {
   "cell_type": "markdown",
   "id": "6cb43b09",
   "metadata": {},
   "source": [
    "## ARIMA model fit"
   ]
  },
  {
   "cell_type": "code",
   "execution_count": 10,
   "id": "f838ea5c",
   "metadata": {},
   "outputs": [
    {
     "name": "stdout",
     "output_type": "stream",
     "text": [
      "MAE arima: 275.598265891431\n",
      "Simple MAE: 271.1642857142857\n"
     ]
    }
   ],
   "source": [
    "#ARIMA\n",
    "#p,d,q=10,0,0\n",
    "#seasonal_order:70 for weekly cycle\n",
    "X=df.usage.iloc[:630].values\n",
    "mdl = ARIMA(X,order=(10,0,0), seasonal_order=(1,0,0,70)).fit()\n",
    "ypred_1 = mdl.predict(X.size,X.size + 70 -1).reshape(70,1)\n",
    "\n",
    "X_2=df.usage.iloc[:700].values\n",
    "mdl_2=ARIMA(X_2,order=(10,0,0), seasonal_order=(1,0,0,70)).fit()\n",
    "ypred_2 = mdl_2.predict(X.size,X.size + 70 -1).reshape(70,1)\n",
    "\n",
    "arima_preds=np.concatenate([ypred_1,ypred_2])*s+m\n",
    "MAE_arima=mean_absolute_error(arima_preds,(df.usage.iloc[630::]*s+m).values.reshape(140,1))\n",
    "print(\"MAE arima:\",MAE_arima)\n",
    "\n",
    "#simple MAE\n",
    "simple_MAE=mean_absolute_error((df.usage.iloc[630:770]*s+m).values.reshape(140,1),df.preds_simple_baseline.iloc[630:770].values.reshape(140,1))\n",
    "print(\"Simple MAE:\", simple_MAE)"
   ]
  },
  {
   "cell_type": "code",
   "execution_count": 11,
   "id": "b82f8a9b",
   "metadata": {},
   "outputs": [
    {
     "data": {
      "text/plain": [
       "<matplotlib.legend.Legend at 0x2337f850490>"
      ]
     },
     "execution_count": 11,
     "metadata": {},
     "output_type": "execute_result"
    },
    {
     "data": {
      "image/png": "[encoded data removed]",
      "text/plain": [
       "<Figure size 432x288 with 1 Axes>"
      ]
     },
     "metadata": {
      "needs_background": "light"
     },
     "output_type": "display_data"
    }
   ],
   "source": [
    "#ARIMA plots\n",
    "plt.plot(arima_preds,label=\"pred\")\n",
    "plt.plot((df.usage.iloc[630:770]*s+m).values.reshape(140,1),label=\"actual\")\n",
    "plt.legend(loc=\"upper left\")"
   ]
  },
  {
   "cell_type": "markdown",
   "id": "82687567",
   "metadata": {},
   "source": [
    "## GBR Prediction"
   ]
  },
  {
   "cell_type": "code",
   "execution_count": null,
   "id": "0584fb16",
   "metadata": {},
   "outputs": [],
   "source": [
    "from sklearn.ensemble import GradientBoostingRegressor as GBR\n",
    "np.random.seed(3)\n",
    "model=GBR()\n",
    "mor=MultiOutputRegressor(model)\n",
    "fitted=mor.fit(X_train,Y_train)\n",
    "preds_1=(fitted.predict(X_test1).ravel()*s+m).reshape(70,1)\n",
    "preds_2=(fitted.predict(X_test2).ravel()*s+m).reshape(70,1)\n",
    "\n",
    "all_preds=np.concatenate([preds_1,preds_2])\n",
    "\n",
    "MAE_GBR=mean_absolute_error(all_preds,(df.usage.iloc[630::]*s+m).values.reshape(140,1))\n",
    "print(\"MAE_GBR is:\", MAE_GBR)\n",
    "\n",
    "#simple MAE\n",
    "simple_MAE=mean_absolute_error((df.usage.iloc[630:770]*s+m).values.reshape(140,1),df.preds_simple_baseline.iloc[630:770].values.reshape(140,1))\n",
    "print(\"Simple MAE:\", simple_MAE)"
   ]
  },
  {
   "cell_type": "code",
   "execution_count": null,
   "id": "506370ec",
   "metadata": {},
   "outputs": [],
   "source": [
    "#GBR plots\n",
    "plt.plot(all_preds,label=\"predicted_GBR\")\n",
    "plt.plot((df.usage.iloc[630:770]*s+m).values.reshape(140,1),label=\"actual\")\n",
    "plt.legend(loc=\"upper left\")"
   ]
  },
  {
   "cell_type": "code",
   "execution_count": null,
   "id": "8033d6d6",
   "metadata": {},
   "outputs": [],
   "source": []
  }
 ],
 "metadata": {
  "kernelspec": {
   "display_name": "Python 3 (ipykernel)",
   "language": "python",
   "name": "python3"
  },
  "language_info": {
   "codemirror_mode": {
    "name": "ipython",
    "version": 3
   },
   "file_extension": ".py",
   "mimetype": "text/x-python",
   "name": "python",
   "nbconvert_exporter": "python",
   "pygments_lexer": "ipython3",
   "version": "3.9.7"
  }
 },
 "nbformat": 4,
 "nbformat_minor": 5
}
